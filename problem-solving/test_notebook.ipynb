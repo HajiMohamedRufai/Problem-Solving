{
 "cells": [
  {
   "attachments": {},
   "cell_type": "markdown",
   "metadata": {},
   "source": [
    "## xor\n",
    "Use cases:\n",
    "- Encrypt messages with XOR\n",
    "- Decrypt messages with XOR\n",
    "- Brute-force XOR cipher\n",
    "\n",
    "## XOR Encryption\n",
    "- Encrypt single byte\n",
    "- Encrypt multiple bytes\n",
    "- Decrypt single byte\n",
    "- Decrypt multiple bytes\n",
    "- Show the plaintext or ciphertext when provided with the key\n",
    "- Show the key used for encryption\n",
    "- Show the difference between the original and decrypted plaintext\n",
    "\n",
    "## Examples\n",
    "- Encrypt 'hello' with key '01110111'\n",
    "- Encrypt 'My dog has fleas' with key '01110111 01100101 01100111 00100000'\n",
    "- Decrypt 'My dog has fleas' with key '01110111 01100101 01100111 00100000'\n",
    "- Decrypt 'hello' with key '01110111'"
   ]
  },
  {
   "attachments": {},
   "cell_type": "markdown",
   "metadata": {},
   "source": [
    "xor gives 1 if opearand are different\n",
    "xor gives 0 if operands are same\n",
    "\n",
    "1 ^ 0 = \t1\n",
    "\n",
    "1 ^ 1 = \t0\n",
    "\n",
    "0 ^ 0 = \t0\n",
    "\n",
    "0 ^ 1 = \t1"
   ]
  },
  {
   "attachments": {},
   "cell_type": "markdown",
   "metadata": {},
   "source": []
  },
  {
   "attachments": {},
   "cell_type": "markdown",
   "metadata": {},
   "source": [
    "## flipping bits"
   ]
  },
  {
   "cell_type": "code",
   "execution_count": null,
   "metadata": {},
   "outputs": [],
   "source": [
    "# start\n",
    "# convert 13 decimal number to binary format\n",
    "x = 13\n",
    "y = bin(x)\n",
    "print(y, type(y))"
   ]
  },
  {
   "cell_type": "code",
   "execution_count": null,
   "metadata": {},
   "outputs": [],
   "source": [
    "# convert y to decimal_number\n",
    "z = int(y, 2)\n",
    "print(z, type(z))"
   ]
  },
  {
   "cell_type": "code",
   "execution_count": null,
   "metadata": {},
   "outputs": [],
   "source": [
    "# change x to 32bit format binary\n",
    "x = 13\n",
    "a = format(x, '07b')\n",
    "print(a, type(a))"
   ]
  },
  {
   "cell_type": "code",
   "execution_count": null,
   "metadata": {},
   "outputs": [],
   "source": [
    "# flip 0's to 1's and 1's to 0's\n",
    "# b = [for bit in a \n",
    "#      if bit == '0' else '1' for bit in a]   \n",
    "# print(b)\n",
    "print(a)\n",
    "b = ''.join('0' if bit == '1' else '1' for bit in a)\n",
    "# inside is a list comprehensio '0' if bit == '1' else '1' for bit in a, no need of [] since inside ()\n",
    "print(b)"
   ]
  },
  {
   "cell_type": "code",
   "execution_count": null,
   "metadata": {},
   "outputs": [],
   "source": [
    "b = ''.join('1' if char == '0' else '0' for char in a)\n",
    "print(b)\n",
    "print(int(b, 2))"
   ]
  },
  {
   "cell_type": "code",
   "execution_count": null,
   "metadata": {},
   "outputs": [],
   "source": [
    "def flippingBits(n):\n",
    "    \"\"\"\n",
    "    Flipping Bits to 32 bit format\n",
    "    # change incoming int to a string of 32 bit format\n",
    "    a = format(n, '032b')\n",
    "    # flip 0's to 1's and 1's to 0's \n",
    "    b = ''.join(['1' if bit == '0' else '0' for bit in a])\n",
    "    return int(b, 2)\n",
    "    \"\"\"\n",
    "    # Write your code here \n",
    "    return int(''.join('0' if bit == '1' else '1' for bit in format(n, '032b')), 2)\n"
   ]
  },
  {
   "attachments": {},
   "cell_type": "markdown",
   "metadata": {},
   "source": [
    "## Python OOP"
   ]
  },
  {
   "cell_type": "code",
   "execution_count": null,
   "metadata": {},
   "outputs": [],
   "source": [
    "class Person:\n",
    "    def __init__(self, name, age):\n",
    "        self.name = name\n",
    "        self.age = age\n",
    "\n",
    "    def say_hello(self):\n",
    "        print(f\"Hello, my name is {self.name} and I'm {self.age} years old.\")\n",
    "\n",
    "\n",
    "p1 = Person(\"Gary\", 32)\n",
    "# print(p1.say_hello)\n",
    "p1.say_hello()"
   ]
  },
  {
   "cell_type": "code",
   "execution_count": null,
   "metadata": {},
   "outputs": [],
   "source": [
    "# Above class decalration are same\n",
    "class Person: \n",
    "class Person():\n",
    "class Person(object):\n"
   ]
  },
  {
   "cell_type": "code",
   "execution_count": null,
   "metadata": {},
   "outputs": [],
   "source": [
    "# define a quick sort function taking a python list\n"
   ]
  },
  {
   "cell_type": "code",
   "execution_count": null,
   "metadata": {},
   "outputs": [],
   "source": [
    "# quick sort function\n",
    "def quickSort(arr):\n",
    "    if len(arr) > 1:\n",
    "        pivot = arr[0]\n",
    "        less = []\n",
    "        p_list = []\n",
    "        more = []\n",
    "\n",
    "        for item in arr:\n",
    "            if item < pivot:\n",
    "                less.append(item)\n",
    "            elif item > pivot:\n",
    "                more.append(item)\n",
    "            else:\n",
    "                p_list.append(item)\n",
    "\n",
    "        return quickSort(less) + p_list + quickSort(more)\n",
    "    else:\n",
    "        return arr\n",
    "    \n",
    "quickSort([2, 5, 1, 0, 9])\n",
    "quickSort([])"
   ]
  },
  {
   "cell_type": "code",
   "execution_count": null,
   "metadata": {},
   "outputs": [],
   "source": [
    "# count sort function\n",
    "def countSort(arr):\n",
    "    max_num = max(arr)\n",
    "    cnt = [0] * (max_num + 1)\n",
    "    for num in arr:\n",
    "        cnt[num] += 1\n",
    "\n",
    "    z = 0\n",
    "    for i in range(0, len(cnt)):\n",
    "        while cnt[i] > 0:\n",
    "            arr[z] = i\n",
    "            z += 1\n",
    "            cnt[i] -= 1\n",
    "    return arr\n",
    "# countSort([2, 5, 1, 0, 9])\n",
    "countSort([-2, -1, 0, -1, 2, 7])"
   ]
  },
  {
   "cell_type": "code",
   "execution_count": null,
   "metadata": {},
   "outputs": [],
   "source": [
    "[1, 3] + [2, 3, 4]\n",
    "# you can concatenat lists"
   ]
  },
  {
   "cell_type": "code",
   "execution_count": null,
   "metadata": {},
   "outputs": [],
   "source": [
    "[1, 3] + []"
   ]
  },
  {
   "cell_type": "code",
   "execution_count": null,
   "metadata": {},
   "outputs": [],
   "source": [
    "def bubleSort(arr):\n",
    "    for i in range(len(arr) - 1, 0, -1):\n",
    "        for j in range(0, i + 1):\n",
    "            if arr[j] > arr[j + 1]:\n",
    "                arr[j], arr[j + 1] = arr[j + 1], arr[j]\n",
    "    return arr\n",
    "\n",
    "\n",
    "bubleSort([2, 5, 1, 0, 9])\n",
    "bubleSort([])\n"
   ]
  },
  {
   "cell_type": "code",
   "execution_count": null,
   "metadata": {},
   "outputs": [],
   "source": [
    "# merge sort function\n",
    "def mergeSort(arr):\n",
    "    if len(arr) > 1:\n",
    "        mid = len(arr) // 2\n",
    "        lefthalf = arr[:mid]\n",
    "        righthalf = arr[mid:]\n",
    "\n",
    "        mergeSort(lefthalf)\n",
    "        mergeSort(righthalf)\n",
    "\n",
    "        i = j = k = 0\n",
    "\n",
    "        while i < len(lefthalf) and j < len(righthalf):\n",
    "            if lefthalf[i] > righthalf[j]:\n",
    "                arr[k] = righthalf[j]\n",
    "                j += 1  \n",
    "            else:\n",
    "\n",
    "                arr[k] = lefthalf[i]"
   ]
  },
  {
   "cell_type": "code",
   "execution_count": null,
   "metadata": {},
   "outputs": [],
   "source": [
    "def my_bubble_sort(arr):\n",
    "    for i in range(len(arr) - 1, 0, -1):\n",
    "        for j in range(0, i + 1):\n",
    "            if arr[j] > arr[j + 1]:\n",
    "                arr[j], arr[j + 1] = arr[j + 1], arr[j]\n",
    "    return arr\n",
    "\n",
    "my_bubble_sort([2, 5, 1, 0, 9])\n"
   ]
  },
  {
   "cell_type": "code",
   "execution_count": null,
   "metadata": {},
   "outputs": [],
   "source": [
    "def my_bubble_sort(arr):\n",
    "    n = len(arr)\n",
    "    for i in range(n):\n",
    "        for j in range(n - 1 - i):\n",
    "            if arr[j] > arr[j + 1]:\n",
    "                arr[j], arr[j + 1] = arr[j + 1], arr[j]\n",
    "\n",
    "    return arr"
   ]
  },
  {
   "cell_type": "code",
   "execution_count": null,
   "metadata": {},
   "outputs": [],
   "source": [
    "arr = [1, 3, 5, 0, 1]\n",
    "my_bubble_sort(arr)"
   ]
  },
  {
   "cell_type": "code",
   "execution_count": null,
   "metadata": {},
   "outputs": [],
   "source": [
    "# my wrog answer test\n",
    "\"\"\"Time to play with Python dictionaries!\n",
    "You're going to work on a dictionary that\n",
    "stores cities by country and continent.\n",
    "One is done for you - the city of Mountain \n",
    "View is in the USA, which is in North America.\n",
    "\n",
    "You need to add the cities listed below by\n",
    "modifying the structure.\n",
    "Then, you should print out the values specified\n",
    "by looking them up in the structure.\n",
    "\n",
    "Cities to add:\n",
    "Bangalore (India, Asia)\n",
    "Atlanta (USA, North America)\n",
    "Cairo (Egypt, Africa)\n",
    "Shanghai (China, Asia)\"\"\"\n",
    "\n",
    "locations = {\n",
    "    'North America': {'USA': ['Mountain View', 'Atlanta']},\n",
    "    'Africa': {'Egypt': [\"Cairo\"]}\n",
    "    'Asia': {\"China\": [\"Shanghai\"], \"India\": [\"Bangalore\"]}\n",
    "}\n",
    "\n",
    "a = locations['North America']['USA'].sort()\n",
    "b = locations['Asia'].values().sort()\n",
    "print(f\"1{a}\")\n",
    "print(f\"2{b}\")\n",
    "\n",
    "\"\"\"Print the following (using \"print\").\n",
    "1. A list of all cities in the USA in\n",
    "alphabetic order.\n",
    "2. All cities in Asia, in alphabetic\n",
    "order, next to the name of the country.\n",
    "In your output, label each answer with a number\n",
    "so it looks like this:\n",
    "1\n",
    "American City\n",
    "American City\n",
    "2\n",
    "Asian City - Country\n",
    "Asian City - Country\"\"\""
   ]
  },
  {
   "cell_type": "code",
   "execution_count": null,
   "metadata": {},
   "outputs": [],
   "source": [
    "# is string pangram function\n",
    "def is_pangram(s):\n",
    "    \n",
    "    s = s.lower()\n",
    "    for c in 'abcdefghijklmnopqrstuvwxyz':\n",
    "        if c not in s:\n",
    "            return False\n",
    "    return True"
   ]
  },
  {
   "attachments": {},
   "cell_type": "markdown",
   "metadata": {},
   "source": [
    "## my count sort alogrithm in python"
   ]
  },
  {
   "cell_type": "code",
   "execution_count": null,
   "metadata": {},
   "outputs": [],
   "source": [
    "# arr = [0, 1, 1, 2, 4, 7,7,7 ,9]\n",
    "# randomize the position of elements in arr\n",
    "arr = [1, 4, 1, 2, 7, 5, 2]\n",
    "\n",
    "def my_count_sort(arr):\n",
    "    n = len(arr)\n",
    "    max_num = max(arr)\n",
    "    # create a count array\n",
    "    count = [0] * (max_num + 1)\n",
    "    # count how many times a number occurs\n",
    "    for x in arr:\n",
    "        count[x] += 1\n",
    "    \n",
    "    print(count)\n",
    "\n",
    "\n",
    "# create a dictionary to put they key-values where is key is number and value is the number of times it occurs\n",
    "\n",
    "for number, count in enumerate(my_count_sort(arr)):\n",
    "    my_dict = {i:count[i] for i,count in enumerate(count)}\n",
    "\n",
    "print(my_dict)\n"
   ]
  },
  {
   "cell_type": "code",
   "execution_count": null,
   "metadata": {},
   "outputs": [],
   "source": [
    "# count sort algorthim function\n",
    "def my_sort(arr):\n",
    "    n = len(arr)\n",
    "    max_num = max(arr)\n",
    "    # create a count array\n",
    "    count = [0] * (max_num + 1)\n",
    "    # count how many times a number occurs\n",
    "    for x in arr:\n",
    "        count[x] += 1\n",
    "    \n",
    "    print(count)\n",
    "    # cumulative add elements in count\n",
    "    \n",
    "    "
   ]
  },
  {
   "cell_type": "code",
   "execution_count": null,
   "metadata": {},
   "outputs": [],
   "source": [
    "# count sort algorithm function\n",
    "\"\"\"\n",
    "ASSUMPTIONS:\n",
    "1. array consists of non-negative integers (whole numbers; 0,1, 2, ..)\n",
    "\"\"\""
   ]
  },
  {
   "cell_type": "code",
   "execution_count": null,
   "metadata": {},
   "outputs": [],
   "source": [
    "# count sort function\n",
    "def countSort(arr):\n",
    "    max_num = max(arr)\n",
    "    cnt = [0] * (max_num + 1)\n",
    "    for num in arr:\n",
    "        cnt[num] += 1\n",
    "\n",
    "    z = 0\n",
    "    for i in range(0, len(cnt)):\n",
    "        while cnt[i] > 0:\n",
    "            arr[z] = i\n",
    "            z += 1\n",
    "            cnt[i] -= 1\n",
    "    return arr"
   ]
  },
  {
   "cell_type": "code",
   "execution_count": null,
   "metadata": {},
   "outputs": [],
   "source": [
    "def count_sort(arr):\n",
    "    n = len(arr)\n",
    "    # print(\"n\", n)\n",
    "    max_val = max(arr)\n",
    "    # print(\"max_val\", max_val)\n",
    "    # initiliaze a count array\n",
    "    count = [0] * (max_val + 1)\n",
    "    for num in arr:\n",
    "        count[num] += 1\n",
    "    print(count)\n",
    "\n",
    "    # cumulative count in count_arr\n",
    "    for i in range(1, len(count)):\n",
    "        count[i] = count[i] + count[i-1]\n",
    "    print(count)\n",
    "\n",
    "\n",
    "    sorted_arr = [0] * n\n",
    "\n",
    "\n",
    "arr = [1, 4, 1, 2, 7, 5, 2]\n",
    "count_sort(arr)\n",
    "\n",
    "\n",
    "\n"
   ]
  },
  {
   "cell_type": "code",
   "execution_count": null,
   "metadata": {},
   "outputs": [],
   "source": [
    "def counting_sort(arr): \n",
    "    # Perform the counting sort on the shifted array\n",
    "    max_val = max(arr)\n",
    "    count = [0] * (max_val + 1)\n",
    "    sorted_arr = [0] * len(arr)\n",
    "    \n",
    "    for num in arr:\n",
    "        count[num] += 1\n",
    "    print(count)\n",
    "    \n",
    "    for i in range(1, len(count)):\n",
    "        count[i] += count[i - 1]\n",
    "    print(count)\n",
    "    \n",
    "    for num in arr[::-1]:\n",
    "        sorted_arr[count[num] - 1] = num  # this is the operation\n",
    "        count[num] -= 1\n",
    "    \n",
    "    return sorted_arr\n",
    "\n",
    "arr = [1, 4, 1, 2, 7, 5, 2]\n",
    "print(arr)\n",
    "print(arr[::-1])\n",
    "# counting_sort(arr)\n"
   ]
  },
  {
   "cell_type": "code",
   "execution_count": null,
   "metadata": {},
   "outputs": [],
   "source": [
    "#  create a dictionary given a counter arr\n",
    "counter_arr = [0, 1, 1, 0,0, 2,3]\n",
    "my_dict = {}\n",
    "for num, count in enumerate(counter_arr):\n",
    "    # create a dictionary\n",
    "    my_dict[str(num)] = count\n",
    "print(my_dict)\n"
   ]
  },
  {
   "cell_type": "code",
   "execution_count": null,
   "metadata": {},
   "outputs": [],
   "source": [
    "for i in range(1, len(counter_arr)):\n",
    "    counter_arr[i] += counter_arr[i-1]\n",
    "print(counter_arr)\n"
   ]
  },
  {
   "attachments": {},
   "cell_type": "markdown",
   "metadata": {},
   "source": [
    "## Q: Getting a sorted_arr given a cumulative count array"
   ]
  },
  {
   "cell_type": "code",
   "execution_count": null,
   "metadata": {},
   "outputs": [],
   "source": [
    "#  my trial yangu\n",
    "arr = [10, 7, 12, 4, 9, 13]\n",
    "def my_sorting(arr):\n",
    "    min_val = min(arr)\n",
    "    max_val = max(arr)\n",
    "    sorted_arr = []\n",
    "    # Building the sorted_arr\n",
    "    for num in range(min_val, (max_val + 1)):\n",
    "        while (num in arr):\n",
    "            sorted_arr.append(num)\n",
    "            arr.remove(num)\n",
    "\n",
    "    return sorted_arr \n",
    "\n",
    "my_sorting(arr)"
   ]
  },
  {
   "cell_type": "code",
   "execution_count": null,
   "metadata": {},
   "outputs": [],
   "source": [
    "my_list = [\"apple\", \"banana\", \"apple\", \"cherry\"]\n",
    "while \"apple\" in my_list:\n",
    "    my_list.remove(\"apple\")\n",
    "print(my_list)"
   ]
  },
  {
   "cell_type": "code",
   "execution_count": null,
   "metadata": {},
   "outputs": [],
   "source": [
    "# practise\n",
    "a = [2, 1, 1, 0, 2, 5, 4, 0, 2, 8, 7, 7, 9, 2, 0, 1, 9]\n",
    "print(len(a))\n",
    "count = [3, 6, 10, 10, 11, 12, 12, 14, 15, 17]  # cumulative count array\n",
    "sorted_arr = [0] * len(a)\n",
    "\n",
    "for num, cf_count in enumerate(count):\n",
    "    sorted"
   ]
  },
  {
   "cell_type": "markdown",
   "metadata": {},
   "source": [
    "## maps and Hashing"
   ]
  },
  {
   "cell_type": "code",
   "execution_count": null,
   "metadata": {},
   "outputs": [],
   "source": [
    "\"\"\"Time to play with Python dictionaries!\n",
    "You're going to work on a dictionary that\n",
    "stores cities by country and continent.\n",
    "One is done for you - the city of Mountain \n",
    "View is in the USA, which is in North America.\n",
    "\n",
    "You need to add the cities listed below by\n",
    "modifying the structure.\n",
    "Then, you should print out the values specified\n",
    "by looking them up in the structure.\n",
    "\n",
    "Cities to add:\n",
    "Bangalore (India, Asia)\n",
    "Atlanta (USA, North America)\n",
    "Cairo (Egypt, Africa)\n",
    "Shanghai (China, Asia)\"\"\"\n",
    "\n",
    "locations = {'North America': {'USA': ['Mountain View']}}\n",
    "\n",
    "\"\"\"Print the following (using \"print\").\n",
    "1. A list of all cities in the USA in\n",
    "alphabetic order.\n",
    "2. All cities in Asia, in alphabetic\n",
    "order, next to the name of the country.\n",
    "In your output, label each answer with a number\n",
    "so it looks like this:\n",
    "1\n",
    "American City\n",
    "American City\n",
    "2\n",
    "Asian City - Country\n",
    "Asian City - Country\"\"\"\n",
    "# locations['Asia'] = {\"India\": [\"Bangalore\"]} \n",
    "locations['North America']['USA'].append('Atlanta')\n",
    "locations['Africa'] = {\"Egypt\": \"Cairo\"}\n",
    "# locations['Asia']['China'] = [\"Shanghai\"]\n",
    "locations['Asia'] = {'China': ['Shanghai'], 'India': ['Bangalore'] } \n",
    "\n",
    "print(1)\n",
    "for city in sorted(locations['North America']['USA']):\n",
    "    print(city)\n",
    "\n",
    "\n",
    "print(2)\n",
    "cities_in_asia = []\n",
    "for country, cities in locations['Asia'].items():\n",
    "    for city in cities:\n",
    "        cities_in_asia.append(\"{} - {}\".format(city, country))\n",
    "\n",
    "for city in sorted(cities_in_asia):\n",
    "    print(city)\n",
    "\n",
    "# mine is better for effiencey and for alphabetical orders for cities"
   ]
  },
  {
   "cell_type": "code",
   "execution_count": null,
   "metadata": {},
   "outputs": [],
   "source": [
    "# chatgpt\n",
    "# Add the cities to the dictionary\n",
    "locations['Asia'] = {'China': ['Shanghai'], 'India': ['Bangalore'] } # good adding two locations at the same time\n",
    "locations['Africa'] = {'Egypt': ['Cairo']}\n",
    "locations['North America']['USA'].append('Atlanta')\n",
    "\n",
    "# Print the cities in the USA in alphabetical order\n",
    "print(\"1\")\n",
    "us_cities = sorted(locations['North America']['USA'])\n",
    "for city in us_cities:\n",
    "    print(city)\n",
    "\n",
    "# Print the cities in Asia in alphabetical order, with their respective countries\n",
    "print(\"2\")\n",
    "asia_cities = {}\n",
    "for country, cities in locations['Asia'].items():\n",
    "    asia_cities[country] = sorted(cities)\n",
    "\n",
    "# print(asia_cities)\n",
    "for country, cities in asia_cities.items():\n",
    "    for city in cities:\n",
    "        print(\"{} - {}\".format(city, country))"
   ]
  },
  {
   "attachments": {},
   "cell_type": "markdown",
   "metadata": {},
   "source": [
    "## To construct a hash table you need\n",
    "1. A dictionary  - that stores the key-value of your data\n",
    "2. An array - to store the indices of the key-values pair\n",
    "3. Hash function"
   ]
  },
  {
   "cell_type": "markdown",
   "metadata": {},
   "source": []
  }
 ],
 "metadata": {
  "kernelspec": {
   "display_name": "base",
   "language": "python",
   "name": "python3"
  },
  "language_info": {
   "codemirror_mode": {
    "name": "ipython",
    "version": 3
   },
   "file_extension": ".py",
   "mimetype": "text/x-python",
   "name": "python",
   "nbconvert_exporter": "python",
   "pygments_lexer": "ipython3",
   "version": "3.10.9"
  },
  "orig_nbformat": 4
 },
 "nbformat": 4,
 "nbformat_minor": 2
}
